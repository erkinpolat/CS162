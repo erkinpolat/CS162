{
 "cells": [
  {
   "cell_type": "code",
   "execution_count": 13,
   "metadata": {
    "collapsed": false
   },
   "outputs": [
   ],
   "source": [
    "class BlankClass(object):\n",
    "    '''This is a Blank class for CS162.'''\n",
    "    pass\n",
    "t = BlankClass()\n",
    "\n",
    "class ClassWithAttr(object):\n",
    "    x1 = 1\n",
    "    x2 = 2\n",
    "\n",
    "my_attr = ClassWithAttr()\n",
    "my_attr.x3 = 3"
   ]
  },
  {
   "cell_type": "code",
   "execution_count": 2,
   "metadata": {
    "collapsed": false
   },
   "outputs": [
    {
     "name": "stdout",
     "output_type": "stream",
     "text": [
      "Help on BlankClass in module __main__ object:\n",
      "\n",
      "class BlankClass(builtins.object)\n",
      " |  This is a Blank class for CS162.\n",
      " |  \n",
      " |  Data descriptors defined here:\n",
      " |  \n",
      " |  __dict__\n",
      " |      dictionary for instance variables (if defined)\n",
      " |  \n",
      " |  __weakref__\n",
      " |      list of weak references to the object (if defined)\n",
      "\n"
     ]
    }
   ],
   "source": [
    "help(t)"
   ]
  },
  {
   "cell_type": "code",
   "execution_count": 3,
   "metadata": {
    "collapsed": false
   },
   "outputs": [
    {
     "data": {
      "text/plain": [
       "__main__.BlankClass"
      ]
     },
     "execution_count": 3,
     "metadata": {
     },
     "output_type": "execute_result"
    }
   ],
   "source": [
    "type(t)"
   ]
  },
  {
   "cell_type": "code",
   "execution_count": 4,
   "metadata": {
    "collapsed": false
   },
   "outputs": [
    {
     "data": {
      "text/plain": [
       "['__class__',\n",
       " '__delattr__',\n",
       " '__dict__',\n",
       " '__dir__',\n",
       " '__doc__',\n",
       " '__eq__',\n",
       " '__format__',\n",
       " '__ge__',\n",
       " '__getattribute__',\n",
       " '__gt__',\n",
       " '__hash__',\n",
       " '__init__',\n",
       " '__init_subclass__',\n",
       " '__le__',\n",
       " '__lt__',\n",
       " '__module__',\n",
       " '__ne__',\n",
       " '__new__',\n",
       " '__reduce__',\n",
       " '__reduce_ex__',\n",
       " '__repr__',\n",
       " '__setattr__',\n",
       " '__sizeof__',\n",
       " '__str__',\n",
       " '__subclasshook__',\n",
       " '__weakref__']"
      ]
     },
     "execution_count": 4,
     "metadata": {
     },
     "output_type": "execute_result"
    }
   ],
   "source": [
    "dir(t)\n",
    "#returns list of the attributes and methods of any object"
   ]
  },
  {
   "cell_type": "code",
   "execution_count": 14,
   "metadata": {
    "collapsed": false
   },
   "outputs": [
    {
     "data": {
      "text/plain": [
       "-9223363292911501294"
      ]
     },
     "execution_count": 14,
     "metadata": {
     },
     "output_type": "execute_result"
    }
   ],
   "source": [
    "hash(t)"
   ]
  },
  {
   "cell_type": "code",
   "execution_count": 15,
   "metadata": {
    "collapsed": false
   },
   "outputs": [
    {
     "data": {
      "text/plain": [
       "139903092392232"
      ]
     },
     "execution_count": 15,
     "metadata": {
     },
     "output_type": "execute_result"
    }
   ],
   "source": [
    "id(t)\n",
    "#This identity has to be unique and constant for this object during the lifetime"
   ]
  },
  {
   "cell_type": "code",
   "execution_count": 16,
   "metadata": {
    "collapsed": false
   },
   "outputs": [
    {
     "data": {
      "text/plain": [
       "True"
      ]
     },
     "execution_count": 16,
     "metadata": {
     },
     "output_type": "execute_result"
    }
   ],
   "source": [
    "hasattr(my_attr,'x3')"
   ]
  },
  {
   "cell_type": "code",
   "execution_count": 17,
   "metadata": {
    "collapsed": false
   },
   "outputs": [
    {
     "data": {
      "text/plain": [
       "3"
      ]
     },
     "execution_count": 17,
     "metadata": {
     },
     "output_type": "execute_result"
    }
   ],
   "source": [
    "getattr(my_attr,'x3')"
   ]
  },
  {
   "cell_type": "code",
   "execution_count": 9,
   "metadata": {
    "collapsed": false
   },
   "outputs": [
   ],
   "source": [
    "delattr(my_attr,'x3')"
   ]
  },
  {
   "cell_type": "code",
   "execution_count": 18,
   "metadata": {
    "collapsed": false
   },
   "outputs": [
    {
     "data": {
      "text/plain": [
       "{'x3': 3}"
      ]
     },
     "execution_count": 18,
     "metadata": {
     },
     "output_type": "execute_result"
    }
   ],
   "source": [
    "vars(my_attr)"
   ]
  },
  {
   "cell_type": "code",
   "execution_count": 11,
   "metadata": {
    "collapsed": false
   },
   "outputs": [
    {
     "data": {
      "text/plain": [
       "False"
      ]
     },
     "execution_count": 11,
     "metadata": {
     },
     "output_type": "execute_result"
    }
   ],
   "source": [
    "hasattr(my_attr,'x3')"
   ]
  },
  {
   "cell_type": "markdown",
   "metadata": {
    "collapsed": false
   },
   "source": [
    "The list of classes in handlers.py, and the classes they inherit from\n",
    "\n",
    "class BaseRotatingHandler(logging.FileHandler) <br>\n",
    "class RotatingFileHandler(BaseRotatingHandler) <br>\n",
    "class TimedRotatingFileHandler(BaseRotatingHandler) <br>\n",
    "class WatchedFileHandler(logging.FileHandler) <br>\n",
    "class SocketHandler(logging.Handler) <br>\n",
    "class DatagramHandler(SocketHandler) <br>\n",
    "class SysLogHandler(logging.Handler) <br>\n",
    "class SMTPHandler(logging.Handler) <br>\n",
    "class NTEventLogHandler(logging.Handler) <br>\n",
    "class BufferingHandler(logging.Handler) <br>\n",
    "class MemoryHandler(BufferingHandler) <br>\n",
    "class QueueHandler(logging.Handler)\n"
   ]
  },
  {
   "cell_type": "code",
   "execution_count": 0,
   "metadata": {
    "collapsed": false
   },
   "outputs": [
   ],
   "source": [
    "class BaseRotatingHandler(logging.FileHandler):\n",
    "    \"\"\"\n",
    "    Base class for handlers that rotate log files at a certain point.\n",
    "    Not meant to be instantiated directly.  Instead, use RotatingFileHandler\n",
    "    or TimedRotatingFileHandler.\n",
    "    \"\"\"\n",
    "    def __init__(self, filename, mode, encoding=None, delay=False):\n",
    "        \"\"\"\n",
    "        Use the specified filename for streamed logging\n",
    "        \"\"\"\n",
    "        logging.FileHandler.__init__(self, filename, mode, encoding, delay)\n",
    "        self.mode = mode\n",
    "        self.encoding = encoding\n",
    "        self.namer = None\n",
    "        self.rotator = None\n",
    "\n",
    "    def emit(self, record):\n",
    "        \"\"\"\n",
    "        Emit a record.\n",
    "        Output the record to the file, catering for rollover as described\n",
    "        in doRollover().\n",
    "        \"\"\"\n",
    "        try:\n",
    "            if self.shouldRollover(record):\n",
    "                self.doRollover()\n",
    "            logging.FileHandler.emit(self, record)\n",
    "        except Exception:\n",
    "            self.handleError(record)\n",
    "\n",
    "    def rotation_filename(self, default_name):\n",
    "        \"\"\"\n",
    "        Modify the filename of a log file when rotating.\n",
    "        This is provided so that a custom filename can be provided.\n",
    "        The default implementation calls the 'namer' attribute of the\n",
    "        handler, if it's callable, passing the default name to\n",
    "        it. If the attribute isn't callable (the default is None), the name\n",
    "        is returned unchanged.\n",
    "        :param default_name: The default name for the log file.\n",
    "        \"\"\"\n",
    "        if not callable(self.namer):\n",
    "            result = default_name\n",
    "        else:\n",
    "            result = self.namer(default_name)\n",
    "        return result\n",
    "\n",
    "    def rotate(self, source, dest):\n",
    "        \"\"\"\n",
    "        When rotating, rotate the current log.\n",
    "        The default implementation calls the 'rotator' attribute of the\n",
    "        handler, if it's callable, passing the source and dest arguments to\n",
    "        it. If the attribute isn't callable (the default is None), the source\n",
    "        is simply renamed to the destination.\n",
    "        :param source: The source filename. This is normally the base\n",
    "                       filename, e.g. 'test.log'\n",
    "        :param dest:   The destination filename. This is normally\n",
    "                       what the source is rotated to, e.g. 'test.log.1'.\n",
    "        \"\"\"\n",
    "        if not callable(self.rotator):\n",
    "            # Issue 18940: A file may not have been created if delay is True.\n",
    "            if os.path.exists(source):\n",
    "                os.rename(source, dest)\n",
    "        else:\n",
    "            self.rotator(source, dest)"
   ]
  },
  {
   "cell_type": "code",
   "execution_count": 0,
   "metadata": {
    "collapsed": false
   },
   "outputs": [
   ],
   "source": [
   ]
  }
 ],
 "metadata": {
  "kernelspec": {
   "display_name": "Python 3 (system-wide)",
   "language": "python",
   "metadata": {
    "cocalc": {
     "description": "Python 3 programming language",
     "priority": 100,
     "url": "https://www.python.org/"
    }
   },
   "name": "python3"
  },
  "language_info": {
   "codemirror_mode": {
    "name": "ipython",
    "version": 3
   },
   "file_extension": ".py",
   "mimetype": "text/x-python",
   "name": "python",
   "nbconvert_exporter": "python",
   "pygments_lexer": "ipython3",
   "version": "3.6.9"
  }
 },
 "nbformat": 4,
 "nbformat_minor": 0
}