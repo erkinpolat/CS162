{
 "cells": [
  {
   "cell_type": "code",
   "execution_count": 1,
   "metadata": {
    "collapsed": false
   },
   "outputs": [
   ],
   "source": [
    "#Creating the class\n",
    "class ClockIterator:\n",
    "    \n",
    "    #initializing the minute, hour and the string times\n",
    "    def __init__(self, max):\n",
    "        self.max = max\n",
    "    \n",
    "    #Defining the iter method. Here it just returns self\n",
    "    def __iter__(self):\n",
    "        self.min = 0\n",
    "        self.hour = 0\n",
    "        self.count = 0\n",
    "        self.time = str(self.hour).zfill(2) + ':' + str(self.min).zfill(2)\n",
    "        return self\n",
    "    \n",
    "    #For the next step, we increase the minute by 1.\n",
    "    def __next__(self):\n",
    "        self.min += 1\n",
    "        \n",
    "        #Whenever it exceeds 60 we carry to hour\n",
    "        if self.min == 60:\n",
    "            self.min = 0\n",
    "            self.hour += 1\n",
    "        \n",
    "        #Whenever hour reaches 24, we reset it back to 0\n",
    "        if self.hour == 24:\n",
    "            self.hour = 0\n",
    "            \n",
    "        #We reform the string time\n",
    "        self.time = str(self.hour).zfill(2) + ':' + str(self.min).zfill(2)\n",
    "        \n",
    "        #When we reach the limit given at the beginning we stop iteration \n",
    "        self.count += 1\n",
    "        if self.count == self.max:\n",
    "            raise StopIteration\n",
    "        \n",
    "        return self.time"
   ]
  },
  {
   "cell_type": "code",
   "execution_count": 2,
   "metadata": {
    "collapsed": false
   },
   "outputs": [
   ],
   "source": [
    "import unittest"
   ]
  },
  {
   "cell_type": "code",
   "execution_count": 20,
   "metadata": {
    "collapsed": false
   },
   "outputs": [
   ],
   "source": [
    "class TestClock(unittest.TestCase):\n",
    "\n",
    "    def test_1(self):\n",
    "        clock = ClockIterator(1500)\n",
    "        for time in clock:\n",
    "            if clock.count == 0:\n",
    "                result = time\n",
    "                self.assertEqual(result, '00:00')\n",
    "        \n",
    "    def test_2(self):\n",
    "        clock = ClockIterator(1500)\n",
    "        for time in clock:\n",
    "            if clock.count == 59:\n",
    "                result = time\n",
    "                self.assertEqual(result, '00:59')\n",
    "        \n",
    "    def test_3(self):\n",
    "        clock = ClockIterator(1500)\n",
    "        for time in clock:\n",
    "            if clock.count == 60:\n",
    "                result = time\n",
    "                self.assertEqual(result, '01:00')\n",
    "        \n",
    "    def test_4(self):\n",
    "        clock = ClockIterator(1500)\n",
    "        for time in clock:\n",
    "            if clock.count == 1439:\n",
    "                result = time\n",
    "                self.assertEqual(result, '23:59')\n",
    "        \n",
    "    def test_5(self):\n",
    "        clock = ClockIterator(1500)\n",
    "        for time in clock:\n",
    "            if clock.count == 1440:\n",
    "                result = time\n",
    "                self.assertEqual(result, '00:00')"
   ]
  },
  {
   "cell_type": "code",
   "execution_count": 21,
   "metadata": {
    "collapsed": false
   },
   "outputs": [
    {
     "name": "stderr",
     "output_type": "stream",
     "text": [
      "."
     ]
    },
    {
     "name": "stderr",
     "output_type": "stream",
     "text": [
      "."
     ]
    },
    {
     "name": "stderr",
     "output_type": "stream",
     "text": [
      "."
     ]
    },
    {
     "name": "stderr",
     "output_type": "stream",
     "text": [
      "."
     ]
    },
    {
     "name": "stderr",
     "output_type": "stream",
     "text": [
      "."
     ]
    },
    {
     "name": "stderr",
     "output_type": "stream",
     "text": [
      "\n",
      "----------------------------------------------------------------------\n",
      "Ran 5 tests in 0.018s\n",
      "\n",
      "OK\n"
     ]
    }
   ],
   "source": [
    "if __name__ == '__main__':\n",
    "    unittest.main(argv=['first-arg-is-ignored'], exit=False)"
   ]
  },
  {
   "cell_type": "code",
   "execution_count": 0,
   "metadata": {
    "collapsed": false
   },
   "outputs": [
   ],
   "source": [
   ]
  }
 ],
 "metadata": {
  "kernelspec": {
   "display_name": "Python 3 (system-wide)",
   "language": "python",
   "metadata": {
    "cocalc": {
     "description": "Python 3 programming language",
     "priority": 100,
     "url": "https://www.python.org/"
    }
   },
   "name": "python3"
  },
  "language_info": {
   "codemirror_mode": {
    "name": "ipython",
    "version": 3
   },
   "file_extension": ".py",
   "mimetype": "text/x-python",
   "name": "python",
   "nbconvert_exporter": "python",
   "pygments_lexer": "ipython3",
   "version": "3.6.9"
  }
 },
 "nbformat": 4,
 "nbformat_minor": 0
}